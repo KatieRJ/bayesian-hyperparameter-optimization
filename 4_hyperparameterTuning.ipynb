{
 "cells": [
  {
   "cell_type": "markdown",
   "id": "4358f239",
   "metadata": {},
   "source": [
    "# Hyperparameter tuning momparison"
   ]
  },
  {
   "cell_type": "code",
   "execution_count": 6,
   "id": "ce08fa7c",
   "metadata": {},
   "outputs": [],
   "source": [
    "import torch\n",
    "import torch.nn as nn\n",
    "import torch.optim as optim\n",
    "from torchvision.models import resnet50, ResNet50_Weights\n",
    "import optuna\n",
    "from tqdm import tqdm\n",
    "from torchvision.datasets import ImageFolder\n",
    "from torchvision import transforms\n",
    "from torch.utils.data import DataLoader, random_split"
   ]
  },
  {
   "cell_type": "code",
   "execution_count": null,
   "id": "ca87d952",
   "metadata": {},
   "outputs": [],
   "source": [
    "# Just setting the same transforms as before \n",
    "transform = transforms.Compose([\n",
    "    transforms.Resize((224, 224)),\n",
    "    transforms.ToTensor(),\n",
    "    transforms.Normalize(mean=[0.485, 0.456, 0.406],\n",
    "                         std=[0.229, 0.224, 0.225])\n",
    "])\n",
    "\n",
    "# Dataset path\n",
    "dataset_path = \"data/breast_cancer\"\n",
    "\n",
    "# Load full dataset\n",
    "dataset = ImageFolder(root=dataset_path, transform=transform)\n",
    "\n",
    "# Split train/val/test (80/10/10)\n",
    "total_size = len(dataset)\n",
    "train_size = int(0.8 * total_size)\n",
    "val_size = int(0.1 * total_size)\n",
    "test_size = total_size - train_size - val_size\n",
    "\n",
    "train_ds, val_ds, test_ds = random_split(dataset, [train_size, val_size, test_size])\n",
    "\n",
    "# Creating loaders\n",
    "train_loader = DataLoader(train_ds, batch_size=32, shuffle=True)\n",
    "val_loader = DataLoader(val_ds, batch_size=32)"
   ]
  },
  {
   "cell_type": "code",
   "execution_count": 8,
   "id": "c29fff83",
   "metadata": {},
   "outputs": [
    {
     "name": "stdout",
     "output_type": "stream",
     "text": [
      "Using device: cpu\n"
     ]
    }
   ],
   "source": [
    "device = torch.device(\"cuda\" if torch.cuda.is_available() else \"cpu\")\n",
    "print(f\"Using device: {device}\")"
   ]
  },
  {
   "cell_type": "code",
   "execution_count": null,
   "id": "d7fb3343",
   "metadata": {},
   "outputs": [],
   "source": [
    "def create_model(trial):\n",
    "    base_model = resnet50(weights=ResNet50_Weights.DEFAULT)\n",
    "\n",
    "    # Freezing\n",
    "    for param in base_model.parameters():\n",
    "        param.requires_grad = False\n",
    "\n",
    "    # Tuning final classifier layers\n",
    "    fc1_size = trial.suggest_int(\"fc1\", 128, 512)\n",
    "    dropout_rate = trial.suggest_float(\"dropout\", 0.2, 0.5)\n",
    "\n",
    "    base_model.fc = nn.Sequential(\n",
    "        nn.Linear(base_model.fc.in_features, fc1_size),\n",
    "        nn.ReLU(),\n",
    "        nn.Dropout(dropout_rate),\n",
    "        nn.Linear(fc1_size, 3)\n",
    "    )\n",
    "\n",
    "    return base_model.to(device)"
   ]
  },
  {
   "cell_type": "code",
   "execution_count": null,
   "id": "d73da0be",
   "metadata": {},
   "outputs": [],
   "source": [
    "def objective(trial):\n",
    "    model = create_model(trial)\n",
    "    lr = trial.suggest_float(\"lr\", 1e-5, 1e-3, log=True)\n",
    "    optimizer = optim.Adam(model.fc.parameters(), lr=lr)\n",
    "    criterion = nn.CrossEntropyLoss()\n",
    "\n",
    "    # Training \n",
    "    model.train()\n",
    "    for epoch in range(3):\n",
    "        running_loss = 0.0\n",
    "        for images, labels in train_loader:\n",
    "            images, labels = images.to(device), labels.to(device)\n",
    "\n",
    "            optimizer.zero_grad()\n",
    "            outputs = model(images)\n",
    "            loss = criterion(outputs, labels)\n",
    "            loss.backward()\n",
    "            optimizer.step()\n",
    "\n",
    "    # Evaluation on validation set\n",
    "    model.eval()\n",
    "    correct = 0\n",
    "    total = 0\n",
    "    with torch.no_grad():\n",
    "        for images, labels in val_loader:\n",
    "            images, labels = images.to(device), labels.to(device)\n",
    "            outputs = model(images)\n",
    "            _, predicted = torch.max(outputs, 1)\n",
    "            correct += (predicted == labels).sum().item()\n",
    "            total += labels.size(0)\n",
    "\n",
    "    val_accuracy = correct / total\n",
    "    return 1.0 - val_accuracy  \n"
   ]
  },
  {
   "cell_type": "code",
   "execution_count": 11,
   "id": "403af7ab",
   "metadata": {},
   "outputs": [
    {
     "name": "stderr",
     "output_type": "stream",
     "text": [
      "[I 2025-03-28 12:05:51,217] A new study created in memory with name: no-name-d3b8e560-d654-44f9-8b87-84b478d0972a\n",
      "[I 2025-03-28 12:08:34,797] Trial 0 finished with value: 0.2948717948717948 and parameters: {'fc1': 464, 'dropout': 0.45739396986948344, 'lr': 0.0008901668363214826}. Best is trial 0 with value: 0.2948717948717948.\n",
      "[I 2025-03-28 12:11:12,026] Trial 1 finished with value: 0.3589743589743589 and parameters: {'fc1': 342, 'dropout': 0.4411962509383305, 'lr': 8.685966663377125e-05}. Best is trial 0 with value: 0.2948717948717948.\n",
      "[I 2025-03-28 12:13:47,761] Trial 2 finished with value: 0.3589743589743589 and parameters: {'fc1': 189, 'dropout': 0.4184150202535579, 'lr': 9.241415756812604e-05}. Best is trial 0 with value: 0.2948717948717948.\n",
      "[I 2025-03-28 12:16:27,669] Trial 3 finished with value: 0.3589743589743589 and parameters: {'fc1': 231, 'dropout': 0.36541043085385017, 'lr': 1.097892627580205e-05}. Best is trial 0 with value: 0.2948717948717948.\n",
      "[I 2025-03-28 12:19:09,099] Trial 4 finished with value: 0.34615384615384615 and parameters: {'fc1': 331, 'dropout': 0.27596081422624213, 'lr': 0.00011526665762358436}. Best is trial 0 with value: 0.2948717948717948.\n",
      "[I 2025-03-28 12:21:49,584] Trial 5 finished with value: 0.3205128205128205 and parameters: {'fc1': 212, 'dropout': 0.4941622327214956, 'lr': 0.00048106107290422706}. Best is trial 0 with value: 0.2948717948717948.\n",
      "[I 2025-03-28 12:24:29,788] Trial 6 finished with value: 0.28205128205128205 and parameters: {'fc1': 331, 'dropout': 0.47548307722648336, 'lr': 0.00027463055798592926}. Best is trial 6 with value: 0.28205128205128205.\n",
      "[I 2025-03-28 12:27:10,117] Trial 7 finished with value: 0.2692307692307693 and parameters: {'fc1': 218, 'dropout': 0.4396058056094437, 'lr': 0.000804189729661856}. Best is trial 7 with value: 0.2692307692307693.\n",
      "[I 2025-03-28 12:29:50,817] Trial 8 finished with value: 0.3589743589743589 and parameters: {'fc1': 200, 'dropout': 0.49601726964217135, 'lr': 6.330760568141362e-05}. Best is trial 7 with value: 0.2692307692307693.\n",
      "[I 2025-03-28 12:32:30,551] Trial 9 finished with value: 0.34615384615384615 and parameters: {'fc1': 448, 'dropout': 0.2947389279156449, 'lr': 0.00013243693457332874}. Best is trial 7 with value: 0.2692307692307693.\n",
      "[I 2025-03-28 12:35:11,289] Trial 10 finished with value: 0.3846153846153846 and parameters: {'fc1': 142, 'dropout': 0.21976086600691105, 'lr': 1.632745885575596e-05}. Best is trial 7 with value: 0.2692307692307693.\n",
      "[I 2025-03-28 12:37:50,074] Trial 11 finished with value: 0.3205128205128205 and parameters: {'fc1': 282, 'dropout': 0.38923221088176463, 'lr': 0.00033184369525463356}. Best is trial 7 with value: 0.2692307692307693.\n",
      "[I 2025-03-28 12:40:28,687] Trial 12 finished with value: 0.3846153846153846 and parameters: {'fc1': 286, 'dropout': 0.4336567794171274, 'lr': 0.00033374073320014975}. Best is trial 7 with value: 0.2692307692307693.\n",
      "[I 2025-03-28 12:43:09,020] Trial 13 finished with value: 0.2564102564102564 and parameters: {'fc1': 393, 'dropout': 0.32254268177369794, 'lr': 0.0009257408197296998}. Best is trial 13 with value: 0.2564102564102564.\n",
      "[I 2025-03-28 12:46:10,437] Trial 14 finished with value: 0.2692307692307693 and parameters: {'fc1': 398, 'dropout': 0.32645794539217693, 'lr': 0.0009728860180206751}. Best is trial 13 with value: 0.2564102564102564.\n",
      "[I 2025-03-28 12:49:10,244] Trial 15 finished with value: 0.2435897435897436 and parameters: {'fc1': 402, 'dropout': 0.32744624734009686, 'lr': 0.0006964578043125617}. Best is trial 15 with value: 0.2435897435897436.\n",
      "[I 2025-03-28 12:51:42,145] Trial 16 finished with value: 0.3589743589743589 and parameters: {'fc1': 395, 'dropout': 0.3225548730482016, 'lr': 3.4162050215839403e-05}. Best is trial 15 with value: 0.2435897435897436.\n",
      "[I 2025-03-28 12:54:21,706] Trial 17 finished with value: 0.3589743589743589 and parameters: {'fc1': 499, 'dropout': 0.2512079680236484, 'lr': 0.00019967730595939545}. Best is trial 15 with value: 0.2435897435897436.\n",
      "[I 2025-03-28 12:57:02,227] Trial 18 finished with value: 0.3589743589743589 and parameters: {'fc1': 395, 'dropout': 0.35568429093898085, 'lr': 0.0005469773699901472}. Best is trial 15 with value: 0.2435897435897436.\n",
      "[I 2025-03-28 12:59:43,169] Trial 19 finished with value: 0.34615384615384615 and parameters: {'fc1': 431, 'dropout': 0.39010077260301923, 'lr': 0.0005633504838183343}. Best is trial 15 with value: 0.2435897435897436.\n"
     ]
    },
    {
     "name": "stdout",
     "output_type": "stream",
     "text": [
      "✅ Best Trial:\n",
      "  Value (1 - accuracy): 0.2436\n",
      "  Params:\n",
      "    fc1: 402\n",
      "    dropout: 0.32744624734009686\n",
      "    lr: 0.0006964578043125617\n"
     ]
    }
   ],
   "source": [
    "study = optuna.create_study(direction=\"minimize\", sampler=optuna.samplers.TPESampler())\n",
    "study.optimize(objective, n_trials=20)\n",
    "\n",
    "print(\"✅ Best Trial:\")\n",
    "print(f\"  Value (1 - accuracy): {study.best_trial.value:.4f}\")\n",
    "print(\"  Params:\")\n",
    "for key, val in study.best_trial.params.items():\n",
    "    print(f\"    {key}: {val}\")\n"
   ]
  },
  {
   "cell_type": "code",
   "execution_count": null,
   "id": "2c1c4ddc",
   "metadata": {},
   "outputs": [],
   "source": [
    "# Recreate and train best model using best trial params\n",
    "best_params = study.best_trial.params"
   ]
  },
  {
   "cell_type": "code",
   "execution_count": null,
   "id": "8a00d0f9",
   "metadata": {},
   "outputs": [],
   "source": [
    "# Build model using those params\n",
    "def create_final_model(best_params):\n",
    "    base_model = resnet50(weights=ResNet50_Weights.DEFAULT)\n",
    "    for param in base_model.parameters():\n",
    "        param.requires_grad = False\n",
    "\n",
    "    base_model.fc = nn.Sequential(\n",
    "        nn.Linear(base_model.fc.in_features, best_params[\"fc1\"]),\n",
    "        nn.ReLU(),\n",
    "        nn.Dropout(best_params[\"dropout\"]),\n",
    "        nn.Linear(best_params[\"fc1\"], 3)\n",
    "    )\n",
    "    return base_model.to(device)"
   ]
  },
  {
   "cell_type": "code",
   "execution_count": 14,
   "id": "ba0a8d1c",
   "metadata": {},
   "outputs": [],
   "source": [
    "# Train it again for full number of epochs\n",
    "final_model = create_final_model(best_params)\n",
    "optimizer = optim.Adam(final_model.fc.parameters(), lr=best_params[\"lr\"])\n",
    "criterion = nn.CrossEntropyLoss()"
   ]
  },
  {
   "cell_type": "code",
   "execution_count": 18,
   "id": "b38aae44",
   "metadata": {},
   "outputs": [],
   "source": [
    "def train_model(model, criterion, optimizer, train_loader, val_loader, num_epochs=10):\n",
    "    model.train()\n",
    "    for epoch in range(num_epochs):\n",
    "        running_loss = 0.0\n",
    "        correct = 0\n",
    "        total = 0\n",
    "\n",
    "        for images, labels in train_loader:\n",
    "            images = images.to(device)\n",
    "            labels = labels.to(device)\n",
    "\n",
    "            optimizer.zero_grad()\n",
    "            outputs = model(images)\n",
    "            loss = criterion(outputs, labels)\n",
    "            loss.backward()\n",
    "            optimizer.step()\n",
    "\n",
    "            running_loss += loss.item()\n",
    "            _, predicted = torch.max(outputs.data, 1)\n",
    "            total += labels.size(0)\n",
    "            correct += (predicted == labels).sum().item()\n",
    "\n",
    "        epoch_acc = correct / total\n",
    "        print(f\"Epoch [{epoch+1}/{num_epochs}], Loss: {running_loss:.4f}, Accuracy: {epoch_acc:.4f}\")\n",
    "\n",
    "    return model\n"
   ]
  },
  {
   "cell_type": "code",
   "execution_count": 19,
   "id": "f45780b8",
   "metadata": {},
   "outputs": [
    {
     "name": "stdout",
     "output_type": "stream",
     "text": [
      "Epoch [1/10], Loss: 16.0731, Accuracy: 0.6410\n",
      "Epoch [2/10], Loss: 14.0318, Accuracy: 0.6987\n",
      "Epoch [3/10], Loss: 12.0669, Accuracy: 0.7756\n",
      "Epoch [4/10], Loss: 10.8206, Accuracy: 0.7901\n",
      "Epoch [5/10], Loss: 9.6208, Accuracy: 0.8189\n",
      "Epoch [6/10], Loss: 8.8762, Accuracy: 0.8285\n",
      "Epoch [7/10], Loss: 7.5168, Accuracy: 0.8942\n",
      "Epoch [8/10], Loss: 7.5433, Accuracy: 0.8590\n",
      "Epoch [9/10], Loss: 7.5465, Accuracy: 0.8590\n",
      "Epoch [10/10], Loss: 7.0826, Accuracy: 0.8718\n"
     ]
    }
   ],
   "source": [
    "trained_model = train_model(final_model, criterion, optimizer, train_loader, val_loader, num_epochs=10)\n"
   ]
  },
  {
   "cell_type": "code",
   "execution_count": 20,
   "id": "558097a8",
   "metadata": {},
   "outputs": [],
   "source": [
    "torch.save(trained_model.state_dict(), \"best_model.pth\")\n"
   ]
  }
 ],
 "metadata": {
  "kernelspec": {
   "display_name": "Python 3",
   "language": "python",
   "name": "python3"
  },
  "language_info": {
   "codemirror_mode": {
    "name": "ipython",
    "version": 3
   },
   "file_extension": ".py",
   "mimetype": "text/x-python",
   "name": "python",
   "nbconvert_exporter": "python",
   "pygments_lexer": "ipython3",
   "version": "3.10.5"
  }
 },
 "nbformat": 4,
 "nbformat_minor": 5
}
